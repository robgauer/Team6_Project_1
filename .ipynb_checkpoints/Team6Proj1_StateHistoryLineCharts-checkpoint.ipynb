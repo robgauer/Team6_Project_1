{
 "cells": [
  {
   "cell_type": "markdown",
   "metadata": {},
   "source": [
    "# Line Chart of State Level COVID-19 data\n",
    "#### Ian Mac Moore, github @zenfinity, 4/24/20\n",
    "We wanted to see if over the course of the pandemic, there was a relation between testing and cases reported.\n",
    "## Process\n",
    "Again used the CSV generated from API call.\n",
    "### Initialize notebook with imports"
   ]
  },
  {
   "cell_type": "code",
   "execution_count": 1,
   "metadata": {},
   "outputs": [
    {
     "ename": "ModuleNotFoundError",
     "evalue": "No module named 'api_keys'",
     "output_type": "error",
     "traceback": [
      "\u001b[1;31m---------------------------------------------------------------------------\u001b[0m",
      "\u001b[1;31mModuleNotFoundError\u001b[0m                       Traceback (most recent call last)",
      "\u001b[1;32m<ipython-input-1-9bd179e2164b>\u001b[0m in \u001b[0;36m<module>\u001b[1;34m\u001b[0m\n\u001b[0;32m     12\u001b[0m \u001b[1;31m# Import API key\u001b[0m\u001b[1;33m\u001b[0m\u001b[1;33m\u001b[0m\u001b[1;33m\u001b[0m\u001b[0m\n\u001b[0;32m     13\u001b[0m \u001b[0msys\u001b[0m\u001b[1;33m.\u001b[0m\u001b[0mpath\u001b[0m\u001b[1;33m.\u001b[0m\u001b[0minsert\u001b[0m\u001b[1;33m(\u001b[0m\u001b[1;36m0\u001b[0m\u001b[1;33m,\u001b[0m \u001b[1;34m\"/Users/ianmacmoore/Desktop/ClassHomework/keys\"\u001b[0m\u001b[1;33m)\u001b[0m\u001b[1;33m\u001b[0m\u001b[1;33m\u001b[0m\u001b[0m\n\u001b[1;32m---> 14\u001b[1;33m \u001b[1;32mfrom\u001b[0m \u001b[0mapi_keys\u001b[0m \u001b[1;32mimport\u001b[0m \u001b[0mg_key\u001b[0m\u001b[1;33m\u001b[0m\u001b[1;33m\u001b[0m\u001b[0m\n\u001b[0m\u001b[0;32m     15\u001b[0m \u001b[0mgmaps\u001b[0m\u001b[1;33m.\u001b[0m\u001b[0mconfigure\u001b[0m\u001b[1;33m(\u001b[0m\u001b[0mapi_key\u001b[0m\u001b[1;33m=\u001b[0m\u001b[0mg_key\u001b[0m\u001b[1;33m)\u001b[0m\u001b[1;33m\u001b[0m\u001b[1;33m\u001b[0m\u001b[0m\n\u001b[0;32m     16\u001b[0m \u001b[0mg_key\u001b[0m\u001b[1;33m\u001b[0m\u001b[1;33m\u001b[0m\u001b[0m\n",
      "\u001b[1;31mModuleNotFoundError\u001b[0m: No module named 'api_keys'"
     ]
    }
   ],
   "source": [
    "# Dependencies and Setup\n",
    "import matplotlib.pyplot as plt\n",
    "import pandas as pd\n",
    "from scipy import stats\n",
    "import numpy as np\n",
    "import json\n",
    "import requests\n",
    "import gmaps\n",
    "import os\n",
    "import sys\n",
    "\n",
    "# API keys file load location\n",
    "sys.path.insert(0, \"/Users/rober/Desktop/ClassHomework/keys\")\n",
    "# Ian's\n",
    "#sys.path.insert(0, \"/Users/ianmacmoore/Desktop/ClassHomework/keys\")\n",
    "\n",
    "from api_keys import g_key\n",
    "gmaps.configure(api_key=g_key)\n",
    "g_key\n",
    "\n",
    "# define current date string to append to the names of output files...\n",
    "import datetime  \n",
    "def _getToday(): return datetime.date.today().strftime(\"%Y%m%d\")   "
   ]
  },
  {
   "cell_type": "markdown",
   "metadata": {},
   "source": [
    "### Get main data from csv and massage"
   ]
  },
  {
   "cell_type": "code",
   "execution_count": null,
   "metadata": {},
   "outputs": [],
   "source": [
    "\n",
    "\n",
    "historyMN_df = pd.read_csv(\"../Output_Data/COV_Tracking_MN_History_data_20200422.csv\")\n",
    "historyMN_df.head()"
   ]
  },
  {
   "cell_type": "markdown",
   "metadata": {},
   "source": [
    "In order to easily plot using pandas, need to fix format of the date, and sort it ascending because we receive the data descending."
   ]
  },
  {
   "cell_type": "code",
   "execution_count": null,
   "metadata": {
    "scrolled": false
   },
   "outputs": [],
   "source": [
    "historyMN_df['Date'] = historyMN_df['Date'].astype(str)\n",
    "historyMN_df['Date'] = pd.to_datetime(historyMN_df['Date'],yearfirst=True)\n",
    "historyMN_df.sort_values('Date',inplace=True)\n",
    "historyMN_df\n"
   ]
  },
  {
   "cell_type": "markdown",
   "metadata": {},
   "source": [
    "Next, pull out columns we're interested in to a new df, and set date as index, which is how pandas plot likes it."
   ]
  },
  {
   "cell_type": "code",
   "execution_count": null,
   "metadata": {},
   "outputs": [],
   "source": [
    "#historyMN_df.reset_index(inplace = True)\n",
    "#historyMN_df.dropna(how='any',inplace=True)\n",
    "#historyMN_df\n",
    "date_positive_df = historyMN_df.loc[:,['Date', 'Positive_Increase','Death_Increase','Total_Test_Results_Increase']]\n",
    "date_positive_df.set_index('Date', inplace=True)\n",
    "date_positive_df.dropna(inplace=True)\n",
    "date_positive_df.head()\n"
   ]
  },
  {
   "cell_type": "markdown",
   "metadata": {},
   "source": [
    "Apply formatting and plot the chart."
   ]
  },
  {
   "cell_type": "code",
   "execution_count": null,
   "metadata": {},
   "outputs": [],
   "source": [
    "\n",
    "date_positive_df.plot()\n",
    "# Remove the plot frame lines. They are unnecessary chartjunk.    \n",
    "ax = plt.subplot(111)   \n",
    "ax.spines[\"top\"].set_visible(False)    \n",
    "ax.spines[\"bottom\"].set_visible(False)    \n",
    "ax.spines[\"right\"].set_visible(False)    \n",
    "ax.spines[\"left\"].set_visible(False)   \n",
    "\n",
    "# Ensure that the axis ticks only show up on the bottom and left of the plot.    \n",
    "# Ticks on the right and top of the plot are generally unnecessary chartjunk.    \n",
    "ax.get_xaxis().tick_bottom()    \n",
    "ax.get_yaxis().tick_left() \n",
    "\n",
    "plt.rc('font',family='Helvetica',size=10) # work in standard sans-serif\n",
    "plt.rc('mathtext',fontset='stixsans')     # with math from www.stixfonts.org\n",
    "\n",
    "# Make sure your axis ticks are large enough to be easily read.    \n",
    "# You don't want your viewers squinting to read your plot.    \n",
    "plt.yticks(fontsize=14)    \n",
    "plt.xticks(fontsize=14)  \n",
    "plt.title(\"MN Daily Increase Over Time\", fontsize=14)\n",
    "plt.xlabel(\"Date\", fontsize=14, alpha=0.8)\n",
    "plt.ylabel(\"People\", fontsize=14, alpha=0.8)\n",
    "\n",
    "#marker_style = dict(color='tab:blue', linestyle=':', marker='o',\n",
    "#                    markersize=1, markerfacecoloralt='tab:red') **marker_style\n",
    "\n",
    "# bbox_inches=\"tight\" removes all the extra whitespace on the edges of your plot.    \n",
    "#plt.savefig(\"Output_Data/COV.png\", bbox_inches=\"tight\")  "
   ]
  },
  {
   "cell_type": "markdown",
   "metadata": {},
   "source": [
    "### For later\n",
    "Potentially can look deeper at data using rolling standard deviation to show \"volitility\" of data. The greater the volitility, the less a \"trend\" can be trusted."
   ]
  },
  {
   "cell_type": "code",
   "execution_count": null,
   "metadata": {},
   "outputs": [],
   "source": [
    "#date_positive_df.rolling(5).std()\n",
    "Images/"
   ]
  },
  {
   "cell_type": "markdown",
   "metadata": {},
   "source": [
    "With it working for MN, bring in other States"
   ]
  },
  {
   "cell_type": "markdown",
   "metadata": {},
   "source": [
    "## Summary\n",
    "### Process\n",
    "Taking data from covidtracking.com api, we generated line charts of daily intervals showing total number of tests vs positive cases and deaths. Currently code is manual to get more States besides MN (accomplished in another notebook, where I hope to generalize and automate process). \n",
    "### Interpretation\n",
    "<p float=\"left\" align=\"left\">\n",
    "  <img src=\"Images/MN_Daily_Increase_Line.png\" width=\"250\" style=\"float:left\"/>\n",
    "  <img src=\"Images/CO_Daily_Increase_Line.png\" width=\"250\" style=\"float:left\"/> \n",
    "  <img src=\"Images/MI_Daily_Increase_Line.png\" width=\"250\" style=\"float:left\"/>\n",
    "</p>\n",
    "</n>\n",
    "\n",
    "\n"
   ]
  },
  {
   "cell_type": "markdown",
   "metadata": {},
   "source": [
    "MN and MI appear to have Tests and Positives lines follow each other starting first week of April. It's enough to warrant deeper study into whether this is to be expected or not.\n",
    "\n",
    "### Further Investigation\n",
    "Look at volitility closer. Could try to normalize or compress scale of tests to better see trends of positive cases and deaths."
   ]
  },
  {
   "cell_type": "code",
   "execution_count": null,
   "metadata": {},
   "outputs": [],
   "source": []
  }
 ],
 "metadata": {
  "kernelspec": {
   "display_name": "Python 3",
   "language": "python",
   "name": "python3"
  },
  "language_info": {
   "codemirror_mode": {
    "name": "ipython",
    "version": 3
   },
   "file_extension": ".py",
   "mimetype": "text/x-python",
   "name": "python",
   "nbconvert_exporter": "python",
   "pygments_lexer": "ipython3",
   "version": "3.6.10"
  }
 },
 "nbformat": 4,
 "nbformat_minor": 4
}
